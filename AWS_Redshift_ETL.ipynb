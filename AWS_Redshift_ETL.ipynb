{
 "cells": [
  {
   "cell_type": "code",
   "execution_count": 1,
   "metadata": {},
   "outputs": [],
   "source": [
    "import psycopg2\n",
    "import configparser"
   ]
  },
  {
   "attachments": {},
   "cell_type": "markdown",
   "metadata": {},
   "source": [
    "## Connect and verify Data Model"
   ]
  },
  {
   "attachments": {},
   "cell_type": "markdown",
   "metadata": {},
   "source": [
    "### Set up connection to Redshift Cluster"
   ]
  },
  {
   "cell_type": "code",
   "execution_count": 4,
   "metadata": {},
   "outputs": [],
   "source": [
    "config = configparser.ConfigParser()\n",
    "config.read('dwh.cfg')\n",
    "aws_db_paremeters = (\"\"\"\n",
    "host = {}\n",
    "dbname = {}\n",
    "user = {}\n",
    "password = {}\n",
    "port = {}\n",
    "\"\"\").format(*config['CLUSTER'].values())\n",
    "\n",
    "conn = psycopg2.connect(aws_db_paremeters)\n",
    "cur = conn.cursor()"
   ]
  },
  {
   "attachments": {},
   "cell_type": "markdown",
   "metadata": {},
   "source": [
    "### Staging tables rows of data"
   ]
  },
  {
   "cell_type": "code",
   "execution_count": 14,
   "metadata": {},
   "outputs": [
    {
     "name": "stdout",
     "output_type": "stream",
     "text": [
      "(1232410,)\n"
     ]
    }
   ],
   "source": [
    "cur = conn.cursor()\n",
    "try:\n",
    "    # cur.execute(\"SELECT COUNT(*) FROM staging_flights\")\n",
    "    cur.execute(\"SELECT COUNT(*) FROM fact_flights\")\n",
    "    conn.commit()\n",
    "except Exception as e:\n",
    "    print(e)\n",
    "row = cur.fetchone()\n",
    "print(row)"
   ]
  },
  {
   "attachments": {},
   "cell_type": "markdown",
   "metadata": {},
   "source": [
    "## Execute analysis"
   ]
  },
  {
   "attachments": {},
   "cell_type": "markdown",
   "metadata": {},
   "source": [
    "#### \"For Southwest Airline, how many landings does their 737 make in 2021?\""
   ]
  },
  {
   "cell_type": "code",
   "execution_count": 15,
   "metadata": {},
   "outputs": [
    {
     "name": "stdout",
     "output_type": "stream",
     "text": [
      "(Decimal('639945.00'),)\n"
     ]
    }
   ],
   "source": [
    "WN_737_landing = \"\"\"\n",
    "SELECT SUM(ff.departures_performed) AS flights \n",
    "FROM fact_flights ff\n",
    "INNER JOIN dim_aircraft_code dac ON ff.aircraft_type = dac.ac_typeid\n",
    "WHERE ff.unique_carrier_entity = '06725'\n",
    "AND dac.short_name = 'B737-7'\n",
    "AND ff.year = 2021\n",
    "\"\"\"\n",
    "conn.close()\n",
    "conn = psycopg2.connect(aws_db_paremeters)\n",
    "cur = conn.cursor()\n",
    "try:\n",
    "    cur.execute(WN_737_landing)\n",
    "\n",
    "except Exception as e:\n",
    "    print(e)\n",
    "row = cur.fetchone()\n",
    "print(row)"
   ]
  },
  {
   "attachments": {},
   "cell_type": "markdown",
   "metadata": {},
   "source": [
    "#### \"For Airbus A321, what are the average route lengh chosen by US airlines?\""
   ]
  },
  {
   "cell_type": "code",
   "execution_count": 17,
   "metadata": {},
   "outputs": [
    {
     "name": "stdout",
     "output_type": "stream",
     "text": [
      "(Decimal('1203.92'),)\n"
     ]
    }
   ],
   "source": [
    "A321_avg_route_length = \"\"\"\n",
    "SELECT AVG(ff.distance) AS avg_distance \n",
    "FROM fact_flights ff\n",
    "INNER JOIN dim_aircraft_code dac ON ff.aircraft_type = dac.ac_typeid\n",
    "WHERE dac.short_name LIKE '%A321%'\n",
    "AND ff.distance > 100\n",
    "\"\"\"\n",
    "conn.close()\n",
    "conn = psycopg2.connect(aws_db_paremeters)\n",
    "cur = conn.cursor()\n",
    "try:\n",
    "    cur.execute(A321_avg_route_length)\n",
    "\n",
    "except Exception as e:\n",
    "    print(e)\n",
    "row = cur.fetchone()\n",
    "print(row)"
   ]
  },
  {
   "attachments": {},
   "cell_type": "markdown",
   "metadata": {},
   "source": [
    "#### \"What are the most popular destinations for helicotpers?\""
   ]
  },
  {
   "cell_type": "code",
   "execution_count": 20,
   "metadata": {},
   "outputs": [
    {
     "name": "stdout",
     "output_type": "stream",
     "text": [
      "('OME', 'Nome, AK', Decimal('2508.00'))\n",
      "('KQA', 'Akutan, AK', Decimal('2409.00'))\n",
      "('7AK', 'Akun, AK', Decimal('2381.00'))\n",
      "('1G4', 'Peach Springs, AZ', Decimal('1100.00'))\n",
      "('SCC', 'Deadhorse, AK', Decimal('873.00'))\n"
     ]
    }
   ],
   "source": [
    "Helicopter_dest = \"\"\"\n",
    "SELECT ff.DEST, dapc.city_name, SUM(ff.departures_performed) AS arrivals\n",
    "FROM fact_flights ff\n",
    "JOIN dim_aircraft_code dac ON ff.aircraft_type = dac.ac_typeid\n",
    "JOIN dim_aircraft_group dag ON dac.ac_group = dag.ac_group\n",
    "JOIN  dim_airport_code dapc ON ff.dest = dapc.airport_code\n",
    "WHERE dag.ac_group_description = 'Helicopter/Stol'\n",
    "GROUP BY ff.DEST, dapc.city_name\n",
    "ORDER BY arrivals DESC\n",
    "LIMIT 5;\n",
    "\"\"\"\n",
    "conn.close()\n",
    "conn = psycopg2.connect(aws_db_paremeters)\n",
    "cur = conn.cursor()\n",
    "try:\n",
    "    cur.execute(Helicopter_dest)\n",
    "\n",
    "except Exception as e:\n",
    "    print(e)\n",
    "result_set = cur.fetchall()\n",
    "\n",
    "for row in result_set:\n",
    "    print(row)"
   ]
  },
  {
   "attachments": {},
   "cell_type": "markdown",
   "metadata": {},
   "source": [
    "### Drop all tables"
   ]
  },
  {
   "cell_type": "code",
   "execution_count": 59,
   "metadata": {},
   "outputs": [],
   "source": [
    "drop table dev.public.dim_aircraft_group;\n",
    "drop table dev.public.dim_airport_code;\n",
    "drop table dev.public.staging_aircraft_configuration;\n",
    "drop table dev.public.staging_aircraft_group;\n"
   ]
  },
  {
   "cell_type": "code",
   "execution_count": 60,
   "metadata": {},
   "outputs": [],
   "source": [
    "conn = psycopg2.connect(aws_db_paremeters)\n",
    "cur = conn.cursor()\n",
    "try:\n",
    "    cur.execute(songplay_table_drop)\n",
    "    cur.execute(songplay_table_create)\n",
    "    cur.execute(songplay_table_insert)\n",
    "    conn.commit()\n",
    "except Exception as e:\n",
    "    print(e)\n",
    "conn.close()"
   ]
  },
  {
   "attachments": {},
   "cell_type": "markdown",
   "metadata": {},
   "source": [
    "### Drop, Create and Insert user_table"
   ]
  },
  {
   "cell_type": "code",
   "execution_count": 7,
   "metadata": {},
   "outputs": [],
   "source": [
    "user_table_create = (\"\"\"\n",
    "CREATE TABLE IF NOT EXISTS user_table\n",
    "(user_id INTEGER PRIMARY KEY,\n",
    "first_name VARCHAR,\n",
    "last_name VARCHAR,\n",
    "gender CHAR(1),\n",
    "level CHAR(10)\n",
    ")\n",
    "\"\"\")\n",
    "user_table_insert = (\"\"\"\n",
    "INSERT INTO user_table\n",
    "(user_id, first_name, last_name, gender, level)\n",
    "SELECT userId, firstName, lastName, gender, level\n",
    "FROM staging_events_table\n",
    "WHERE userId is not null;\n",
    "\"\"\")\n",
    "user_table_distinct = (\"\"\"\n",
    "BEGIN;\n",
    "CREATE TABLE temp1 AS SELECT DISTINCT * FROM user_table;\n",
    "ALTER TABLE user_table RENAME TO temp2;\n",
    "ALTER TABLE temp1 RENAME TO user_table;\n",
    "DROP TABLE temp2;\n",
    "COMMIT;\n",
    "\"\"\")"
   ]
  },
  {
   "cell_type": "code",
   "execution_count": 8,
   "metadata": {},
   "outputs": [],
   "source": [
    "conn = psycopg2.connect(aws_db_paremeters)\n",
    "cur = conn.cursor()\n",
    "try:\n",
    "    cur.execute(user_table_drop)\n",
    "    cur.execute(user_table_create)\n",
    "    cur.execute(user_table_insert)\n",
    "    cur.execute(user_table_distinct)\n",
    "    conn.commit()\n",
    "except Exception as e:\n",
    "    print(e)\n",
    "conn.close()"
   ]
  },
  {
   "attachments": {},
   "cell_type": "markdown",
   "metadata": {},
   "source": [
    "### Drop, Create and Insert song_table"
   ]
  },
  {
   "cell_type": "code",
   "execution_count": 5,
   "metadata": {},
   "outputs": [],
   "source": [
    "song_table_drop = \"DROP TABLE IF EXISTS song_table\"\n",
    "song_table_create = (\"\"\"\n",
    "CREATE TABLE IF NOT EXISTS song_table\n",
    "(song_id VARCHAR PRIMARY KEY,\n",
    "title VARCHAR NOT NULL,\n",
    "artist_id VARCHAR,\n",
    "year INTEGER,\n",
    "duration DECIMAL NOT NULL\n",
    ")\n",
    "\"\"\")\n",
    "song_table_insert = (\"\"\"\n",
    "INSERT INTO song_table\n",
    "(song_id, title, artist_id, year, duration)\n",
    "SELECT song_id, title, artist_id, year, duration\n",
    "FROM staging_songs_table\n",
    "\"\"\")\n"
   ]
  },
  {
   "cell_type": "code",
   "execution_count": 6,
   "metadata": {},
   "outputs": [],
   "source": [
    "conn = psycopg2.connect(aws_db_paremeters)\n",
    "cur = conn.cursor()\n",
    "try:\n",
    "    cur.execute(song_table_drop)\n",
    "    cur.execute(song_table_create)\n",
    "    cur.execute(song_table_insert)\n",
    "    conn.commit()\n",
    "except Exception as e:\n",
    "    print(e)\n",
    "conn.close()"
   ]
  },
  {
   "attachments": {},
   "cell_type": "markdown",
   "metadata": {},
   "source": [
    "### Drop, Create and Insert artist_table"
   ]
  },
  {
   "cell_type": "code",
   "execution_count": 10,
   "metadata": {},
   "outputs": [],
   "source": [
    "artist_table_drop = \"DROP TABLE IF EXISTS artist_table\"\n",
    "\n",
    "artist_table_create = (\"\"\"\n",
    "CREATE TABLE IF NOT EXISTS artist_table\n",
    "(artist_id VARCHAR PRIMARY KEY,\n",
    "name VARCHAR NOT NULL,\n",
    "location VARCHAR,\n",
    "lattitude double precision,\n",
    "longitude double precision\n",
    ")\n",
    "\"\"\")\n",
    "\n",
    "artist_table_insert = (\"\"\"\n",
    "INSERT INTO artist_table\n",
    "(artist_id, name, location, lattitude, longitude)\n",
    "SELECT artist_id, artist_name, artist_location, artist_lattitude, artist_longitude\n",
    "FROM staging_songs_table\n",
    "\"\"\")\n",
    "\n",
    "artist_table_distinct = (\n",
    "\"\"\"\n",
    "BEGIN;\n",
    "CREATE TABLE temp1 AS SELECT DISTINCT * FROM artist_table;\n",
    "ALTER TABLE artist_table RENAME TO temp2;\n",
    "ALTER TABLE temp1 RENAME TO artist_table;\n",
    "DROP TABLE temp2;\n",
    "COMMIT;\n",
    "\"\"\"\n",
    ")\n",
    "\n"
   ]
  },
  {
   "cell_type": "code",
   "execution_count": 11,
   "metadata": {},
   "outputs": [],
   "source": [
    "conn = psycopg2.connect(aws_db_paremeters)\n",
    "cur = conn.cursor()\n",
    "try:\n",
    "    cur.execute(artist_table_drop)\n",
    "    cur.execute(artist_table_create)\n",
    "    cur.execute(artist_table_insert)\n",
    "    cur.execute(artist_table_distinct)\n",
    "    conn.commit()\n",
    "except Exception as e:\n",
    "    print(e)\n",
    "conn.close()"
   ]
  }
 ],
 "metadata": {
  "kernelspec": {
   "display_name": "Python 3",
   "language": "python",
   "name": "python3"
  },
  "language_info": {
   "codemirror_mode": {
    "name": "ipython",
    "version": 3
   },
   "file_extension": ".py",
   "mimetype": "text/x-python",
   "name": "python",
   "nbconvert_exporter": "python",
   "pygments_lexer": "ipython3",
   "version": "3.8.2"
  },
  "orig_nbformat": 4,
  "vscode": {
   "interpreter": {
    "hash": "570feb405e2e27c949193ac68f46852414290d515b0ba6e5d90d076ed2284471"
   }
  }
 },
 "nbformat": 4,
 "nbformat_minor": 2
}
