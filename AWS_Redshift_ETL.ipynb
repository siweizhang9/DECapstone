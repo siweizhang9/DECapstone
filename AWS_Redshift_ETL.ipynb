{
 "cells": [
  {
   "cell_type": "code",
   "execution_count": 1,
   "metadata": {},
   "outputs": [],
   "source": [
    "import psycopg2\n",
    "import configparser"
   ]
  },
  {
   "attachments": {},
   "cell_type": "markdown",
   "metadata": {},
   "source": [
    "## Connect and verify Data Model"
   ]
  },
  {
   "attachments": {},
   "cell_type": "markdown",
   "metadata": {},
   "source": [
    "### Set up connection to Redshift Cluster"
   ]
  },
  {
   "cell_type": "code",
   "execution_count": 4,
   "metadata": {},
   "outputs": [],
   "source": [
    "config = configparser.ConfigParser()\n",
    "config.read('dwh.cfg')\n",
    "aws_db_paremeters = (\"\"\"\n",
    "host = {}\n",
    "dbname = {}\n",
    "user = {}\n",
    "password = {}\n",
    "port = {}\n",
    "\"\"\").format(*config['CLUSTER'].values())\n",
    "\n",
    "conn = psycopg2.connect(aws_db_paremeters)\n",
    "cur = conn.cursor()"
   ]
  },
  {
   "attachments": {},
   "cell_type": "markdown",
   "metadata": {},
   "source": [
    "### Staging tables rows of data"
   ]
  },
  {
   "cell_type": "code",
   "execution_count": 14,
   "metadata": {},
   "outputs": [
    {
     "name": "stdout",
     "output_type": "stream",
     "text": [
      "(1232410,)\n"
     ]
    }
   ],
   "source": [
    "cur = conn.cursor()\n",
    "try:\n",
    "    # cur.execute(\"SELECT COUNT(*) FROM staging_flights\")\n",
    "    cur.execute(\"SELECT COUNT(*) FROM fact_flights\")\n",
    "    conn.commit()\n",
    "except Exception as e:\n",
    "    print(e)\n",
    "row = cur.fetchone()\n",
    "print(row)"
   ]
  },
  {
   "attachments": {},
   "cell_type": "markdown",
   "metadata": {},
   "source": [
    "## Execute analysis"
   ]
  },
  {
   "attachments": {},
   "cell_type": "markdown",
   "metadata": {},
   "source": [
    "#### \"For Southwest Airline, how many landings does their 737 make in 2021?\""
   ]
  },
  {
   "cell_type": "code",
   "execution_count": 15,
   "metadata": {},
   "outputs": [
    {
     "name": "stdout",
     "output_type": "stream",
     "text": [
      "(Decimal('639945.00'),)\n"
     ]
    }
   ],
   "source": [
    "WN_737_landing = \"\"\"\n",
    "SELECT SUM(ff.departures_performed) AS flights \n",
    "FROM fact_flights ff\n",
    "INNER JOIN dim_aircraft_code dac ON ff.aircraft_type = dac.ac_typeid\n",
    "WHERE ff.unique_carrier_entity = '06725'\n",
    "AND dac.short_name = 'B737-7'\n",
    "AND ff.year = 2021\n",
    "\"\"\"\n",
    "conn.close()\n",
    "conn = psycopg2.connect(aws_db_paremeters)\n",
    "cur = conn.cursor()\n",
    "try:\n",
    "    cur.execute(WN_737_landing)\n",
    "\n",
    "except Exception as e:\n",
    "    print(e)\n",
    "row = cur.fetchone()\n",
    "print(row)"
   ]
  },
  {
   "attachments": {},
   "cell_type": "markdown",
   "metadata": {},
   "source": [
    "#### \"For Airbus A321, what are the average route lengh chosen by US airlines?\""
   ]
  },
  {
   "cell_type": "code",
   "execution_count": 17,
   "metadata": {},
   "outputs": [
    {
     "name": "stdout",
     "output_type": "stream",
     "text": [
      "(Decimal('1203.92'),)\n"
     ]
    }
   ],
   "source": [
    "A321_avg_route_length = \"\"\"\n",
    "SELECT AVG(ff.distance) AS avg_distance \n",
    "FROM fact_flights ff\n",
    "INNER JOIN dim_aircraft_code dac ON ff.aircraft_type = dac.ac_typeid\n",
    "WHERE dac.short_name LIKE '%A321%'\n",
    "AND ff.distance > 100\n",
    "\"\"\"\n",
    "conn.close()\n",
    "conn = psycopg2.connect(aws_db_paremeters)\n",
    "cur = conn.cursor()\n",
    "try:\n",
    "    cur.execute(A321_avg_route_length)\n",
    "\n",
    "except Exception as e:\n",
    "    print(e)\n",
    "row = cur.fetchone()\n",
    "print(row)"
   ]
  },
  {
   "attachments": {},
   "cell_type": "markdown",
   "metadata": {},
   "source": [
    "#### \"What are the most popular destinations for helicotpers?\""
   ]
  },
  {
   "cell_type": "code",
   "execution_count": 21,
   "metadata": {},
   "outputs": [
    {
     "name": "stdout",
     "output_type": "stream",
     "text": [
      "('OME', 'Nome, AK', Decimal('2508.00'))\n",
      "('KQA', 'Akutan, AK', Decimal('2409.00'))\n",
      "('7AK', 'Akun, AK', Decimal('2381.00'))\n",
      "('1G4', 'Peach Springs, AZ', Decimal('1100.00'))\n",
      "('SCC', 'Deadhorse, AK', Decimal('873.00'))\n"
     ]
    }
   ],
   "source": [
    "Helicopter_dest = \"\"\"\n",
    "SELECT ff.DEST, dapc.city_name, SUM(ff.departures_performed) AS arrivals\n",
    "FROM fact_flights ff\n",
    "JOIN dim_aircraft_code dac ON ff.aircraft_type = dac.ac_typeid\n",
    "JOIN dim_aircraft_group dag ON dac.ac_group = dag.ac_group\n",
    "JOIN  dim_airport_code dapc ON ff.dest = dapc.airport_code\n",
    "WHERE dag.ac_group_description = 'Helicopter/Stol'\n",
    "GROUP BY ff.DEST, dapc.city_name\n",
    "ORDER BY arrivals DESC\n",
    "LIMIT 5;\n",
    "\"\"\"\n",
    "\n",
    "conn = psycopg2.connect(aws_db_paremeters)\n",
    "cur = conn.cursor()\n",
    "try:\n",
    "    cur.execute(Helicopter_dest)\n",
    "\n",
    "except Exception as e:\n",
    "    print(e)\n",
    "result_set = cur.fetchall()\n",
    "\n",
    "for row in result_set:\n",
    "    print(row)\n",
    "\n",
    "conn.close()"
   ]
  }
 ],
 "metadata": {
  "kernelspec": {
   "display_name": "Python 3",
   "language": "python",
   "name": "python3"
  },
  "language_info": {
   "codemirror_mode": {
    "name": "ipython",
    "version": 3
   },
   "file_extension": ".py",
   "mimetype": "text/x-python",
   "name": "python",
   "nbconvert_exporter": "python",
   "pygments_lexer": "ipython3",
   "version": "3.8.2"
  },
  "orig_nbformat": 4,
  "vscode": {
   "interpreter": {
    "hash": "570feb405e2e27c949193ac68f46852414290d515b0ba6e5d90d076ed2284471"
   }
  }
 },
 "nbformat": 4,
 "nbformat_minor": 2
}
